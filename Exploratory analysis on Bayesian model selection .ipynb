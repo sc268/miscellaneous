{
 "cells": [
  {
   "cell_type": "code",
   "execution_count": 1,
   "metadata": {
    "collapsed": false
   },
   "outputs": [],
   "source": [
    "import random\n",
    "import scipy as sp\n",
    "import numpy as np\n",
    "\n",
    "import itertools\n",
    "from operator import mul\n",
    "from functools import reduce\n",
    "from math import exp, log, gamma,sqrt\n",
    "from scipy import misc\n",
    "%matplotlib inline\n",
    "import matplotlib.pyplot as plt\n",
    "\n",
    "\n",
    "def random_combination(iterable, r):\n",
    "    \"Random selection from itertools.combinations(iterable, r)\"\n",
    "    pool = tuple(iterable)\n",
    "    n = len(pool)\n",
    "    indices = sorted(random.sample(xrange(n), r))\n",
    "    return tuple(pool[i] for i in indices)\n",
    "\n",
    "def calc_full(dat, k, tau):\n",
    "    \"\"\" input: observations from m channels and 1<= w <= m integer \n",
    "        output: average Bayes factor among all models with the same model complexity w (i.e. w out of m channels have nonzero mean)\n",
    "        calculate ALL distinct w consecutive products within the string A, e.g.:\n",
    "        If w = 1 , return [A(1)+A(2)+A(3)]/3\n",
    "        If w = 2 , return [A(1)A(2)+A(1)A(3)+A(2)A(3)] /3 \n",
    "        If w = 3 , return [A(1)A(2)A(3)]/1 \n",
    "    \"\"\"\n",
    "    delta = tau**2 / (1.0 + tau**2)\n",
    "    A =  map(lambda x: (1.0 + tau **2)**(-0.5) * exp(delta /2.0 * x**2), dat )\n",
    "    if k >= 1 and k <= len(A):\n",
    "        l = [reduce(mul, comb) for comb in itertools.combinations(A, k)]\n",
    "        return sum(l)/len(l)  #return average\n",
    "    else:\n",
    "        print 'Error: k>m or k=1'\n",
    "        \n",
    "        \n",
    "def sum_Bayes_full(dat, k, tau):    \n",
    "    #A = map(lambda x: x**2, dat )\n",
    "    A =  map(lambda x: (1.0 + tau **2)**(-0.5) * exp( tau**2 / (1.0 + tau**2) /2.0 * x**2), dat )\n",
    "    if k >= 1 and k <= len(A):\n",
    "        l = [reduce(mul, comb) for comb in itertools.combinations(A, k)]\n",
    "        return sum(l)  \n",
    "    elif k == 0 :\n",
    "        return 1\n",
    "    else:\n",
    "        print 'Error: 0 <= k <= m'\n",
    "        \n",
    "def sum_BF_inclusion(dat, channel, tau, a, b):\n",
    "    \"\"\" return sum of Bayes factors containing the channel\n",
    "        channel= 1 to M \"\"\"\n",
    "    m = len(dat)\n",
    "    models_prior = []\n",
    "    \n",
    "    # assign prior \n",
    "    #for k in xrange(0,m+1):\n",
    "    #    models_prior.append(prior(m,k,a,b))\n",
    "    #print models_prior\n",
    "    \n",
    "    # seperate the channel observation & the others\n",
    "    channel_obs = dat[channel-1]\n",
    "    #print np.append(sample[:(channel-1)],sample[(channel):])\n",
    "    \n",
    "    # compute weighted sum of Bayes factors containing the channel\n",
    "    temp = 0.\n",
    "    for k in xrange(0,m):\n",
    "        temp += (sum_Bayes_full(np.append(sample[:(channel-1)],sample[channel:]),k, tau)) / (m + 1.) / sp.misc.comb(m,k+1)\n",
    "    temp *= (1.0 + tau **2)**(-0.5) * exp( tau**2 / (1.0 +tau**2) /2.0 * channel_obs**2)\n",
    "    return temp\n",
    "\n",
    "def prior(m,k,a,b):\n",
    "    \"For any fixed m, return prior for all models with model complexity 0<=k <=m\"\n",
    "    return sp.special.beta(a+k, b+m-k) / sp.special.beta(a, b)\n",
    "     \n",
    "# inclusion prob\n",
    "m = 10\n",
    "kmax = m\n",
    "channel = 1\n",
    "prior_level = [1./(kmax+ 1.)]* (kmax+1)\n",
    "\n",
    "sample = np.random.normal(0,1,25)\n",
    "\n",
    "\n",
    "def inclusion_post(sample, channel, tau, kmax, prior_level):\n",
    "    ''' get inclusion probability  \n",
    "        channel in {1,2,...,m}'''\n",
    "    m = len(sample)\n",
    "    sumBF_arr =[]\n",
    "    \n",
    "    # save Bayes factors without the channel \n",
    "    for k in xrange(0, kmax+1): \n",
    "        temp = sum_Bayes_full(np.append(sample[:(channel-1)],sample[channel:]), k, tau)\n",
    "        #print ' k =  ' + str(k) +  '; sum BF excluding x[channel] ' + str(temp)\n",
    "        sumBF_arr.append(temp)\n",
    "\n",
    "    BFchannel = (1.0 + tau **2)**(-0.5) * exp( tau**2 / (1.0 + tau**2) /2.0 * sample[channel-1]**2)\n",
    "    numerator = 0.\n",
    "    for k in xrange(1, kmax+1):\n",
    "        numerator += prior_level[k]/sp.misc.comb(m,k)*sumBF_arr[k-1]*BFchannel\n",
    "    denominator = numerator\n",
    "    for k in xrange(0, kmax+1):\n",
    "        denominator +=  prior_level[k]/sp.misc.comb(m,k)*sumBF_arr[k]\n",
    "    #print denominator\n",
    "    return numerator / denominator\n",
    "\n",
    "\n",
    "def inclusion_post_est(sample, channel, tau, kmax, prior_level):\n",
    "    ''' get estimate inclusion probability  '''\n",
    "    m = len(sample)\n",
    "    sumkpk = 0.\n",
    "    for k in xrange(1, kmax+1):\n",
    "        sumkpk += k*prior_levels[k]\n",
    "    temp = 1./sqrt(1.+tau**2)*exp(tau**2*sample[channel-1]**2/2./(1.+tau**2))/m * sumkpk\n",
    "    return temp / (1. + temp - sumkpk/m)\n",
    "\n",
    "def FPP(sample, tau, kmax, prior_level, threshold):\n",
    "    ''' given sample, return True if any inclusion posterior > threshold'''\n",
    "    m = len(sample)\n",
    "    for i in xrange(1, m+1):\n",
    "        if inclusion_post(sample, i, tau, kmax, prior_level)>threshold:\n",
    "            return True\n",
    "    return False\n",
    "\n",
    "def null_post(sample, tau, kmax, prior_level):\n",
    "    m = len(sample)\n",
    "    sumBF_arr =[]\n",
    "    # save Bayes factors without the channel \n",
    "    for k in xrange(0, kmax+1): \n",
    "        temp = sum_Bayes_full(sample, k, tau)\n",
    "        sumBF_arr.append(temp)\n",
    "    denominator = 0.\n",
    "    for k in xrange(0, kmax+1):\n",
    "        denominator += prior_level[k]/ prior_level[0] /sp.misc.comb(m,k)*sumBF_arr[k]\n",
    "    return 1. / denominator\n"
   ]
  },
  {
   "cell_type": "code",
   "execution_count": 42,
   "metadata": {
    "collapsed": false
   },
   "outputs": [
    {
     "name": "stdout",
     "output_type": "stream",
     "text": [
      "[0.1, 0.3, 0.3, 0.3]\n",
      "[0.25, 0.25, 0.25, 0.25]\n",
      "[0.5, 0.16666666666666666, 0.16666666666666666, 0.16666666666666666]\n",
      "[0.75, 0.08333333333333333, 0.08333333333333333, 0.08333333333333333]\n",
      "[0.9, 0.033333333333333326, 0.033333333333333326, 0.033333333333333326]\n"
     ]
    }
   ],
   "source": [
    "#P(M0 | X) -> P(M0)?\n",
    "\n",
    "iters = 100\n",
    "m = 100\n",
    "kmax = 3\n",
    "tau = 5.\n",
    "res_all = []\n",
    "null_priors = [0.1, 0.25, 0.5, 0.75, 0.9]\n",
    "\n",
    "\n",
    "for null_prior in null_priors:\n",
    "    prior_levels = [(1.-null_prior)/kmax]*kmax\n",
    "    prior_levels.insert(0, null_prior)\n",
    "    print prior_levels\n",
    "    sumkpk= 0.\n",
    "    tau = 1.\n",
    "    iter = 0\n",
    "    res = []\n",
    "    while iter< iters:\n",
    "        total = 0.\n",
    "        dat = np.random.normal(0,1,m)\n",
    "        res.append(null_post(dat, tau, kmax, prior_levels))\n",
    "        #res2.append(denominator(dat, 1, tau, kmax, prior_levels))\n",
    "        #res2.append(1.+ sumkpk/m/sqrt(1.+tau**2)*(exp(0.5*tau**2/(1.+tau**2)*dat[0]**2)-1))\n",
    "        iter += 1\n",
    "    res_all.append(res)\n",
    "    \n",
    "        \n",
    "#plt.hist(res2, bins = 30)"
   ]
  },
  {
   "cell_type": "code",
   "execution_count": 43,
   "metadata": {
    "collapsed": false
   },
   "outputs": [
    {
     "data": {
      "image/png": "[encoded data removed]",
      "text/plain": [
       "<matplotlib.figure.Figure at 0x10d838f50>"
      ]
     },
     "metadata": {},
     "output_type": "display_data"
    }
   ],
   "source": [
    "#plot P(M0|X) density\n",
    "plt.show()\n",
    "import seaborn as sns\n",
    "plt.boxplot(res_all)\n",
    "plt.xticks(range(1,len(null_priors)+1,1), null_priors)\n",
    "plt.xlabel(r\"$P(M_0)$\")\n",
    "plt.ylabel(r\"$P(M_0 \\mid X)$\")\n",
    "plt.savefig('null_post.pdf')\n"
   ]
  },
  {
   "cell_type": "code",
   "execution_count": 79,
   "metadata": {
    "collapsed": false
   },
   "outputs": [
    {
     "data": {
      "text/plain": [
       "(array([ 12.,  49.,  75.,  98.,  77.,  66.,  40.,  21.,  18.,  12.,  10.,\n",
       "          6.,   4.,   5.,   1.,   0.,   1.,   0.,   1.,   1.,   0.,   0.,\n",
       "          1.,   0.,   0.,   1.,   0.,   0.,   0.,   1.]),\n",
       " array([ 0.79937065,  0.83815708,  0.8769435 ,  0.91572992,  0.95451635,\n",
       "         0.99330277,  1.03208919,  1.07087561,  1.10966204,  1.14844846,\n",
       "         1.18723488,  1.22602131,  1.26480773,  1.30359415,  1.34238057,\n",
       "         1.381167  ,  1.41995342,  1.45873984,  1.49752627,  1.53631269,\n",
       "         1.57509911,  1.61388553,  1.65267196,  1.69145838,  1.7302448 ,\n",
       "         1.76903123,  1.80781765,  1.84660407,  1.88539049,  1.92417692,\n",
       "         1.96296334]),\n",
       " <a list of 30 Patch objects>)"
      ]
     },
     "execution_count": 79,
     "metadata": {},
     "output_type": "execute_result"
    },
    {
     "data": {
      "image/png": "[encoded data removed]",
      "text/plain": [
       "<matplotlib.figure.Figure at 0x108eef1d0>"
      ]
     },
     "metadata": {},
     "output_type": "display_data"
    }
   ],
   "source": [
    "#sum BF = 1?\n",
    "iter = 0\n",
    "iters = 500\n",
    "m = 100\n",
    "kmax = 3\n",
    "res = []\n",
    "res2 =[]\n",
    "\n",
    "prior_levels = [1./(kmax+1)]*(kmax+1)\n",
    "sumkpk= 0.\n",
    "tau = 1.\n",
    "for k in xrange(1, kmax+1):\n",
    "    sumkpk += k*prior_levels[k]\n",
    "    \n",
    "while iter< iters:\n",
    "    total = 0.\n",
    "    dat = np.random.normal(0,1,m)\n",
    "    for k in xrange(kmax+1):\n",
    "        total+= prior_levels[k]/ sp.misc.comb(m,k)*sum_Bayes_full(dat, k, 1.)\n",
    "    res.append(total)\n",
    "    #res2.append(denominator(dat, 1, tau, kmax, prior_levels))\n",
    "    #res2.append(1.+ sumkpk/m/sqrt(1.+tau**2)*(exp(0.5*tau**2/(1.+tau**2)*dat[0]**2)-1))\n",
    "    iter += 1\n",
    "plt.show()\n",
    "plt.hist(res, bins = 30)\n",
    "plt.hist(res2, bins = 30)"
   ]
  },
  {
   "cell_type": "code",
   "execution_count": null,
   "metadata": {
    "collapsed": true
   },
   "outputs": [],
   "source": [
    "while(iter < iters):\n",
    "    sample = np.random.normal(0,1,m)\n",
    "    \n",
    "    res.append(temp / (1. + temp))\n",
    "    iter += 1"
   ]
  },
  {
   "cell_type": "code",
   "execution_count": 8,
   "metadata": {
    "collapsed": false
   },
   "outputs": [
    {
     "name": "stdout",
     "output_type": "stream",
     "text": [
      "[5, 6, 7, 8, 9, 11, 12, 13, 14, 15]\n",
      "5\n",
      "6\n",
      "7\n",
      "8\n",
      "9\n",
      "11\n",
      "12\n",
      "13\n",
      "14\n",
      "15\n"
     ]
    },
    {
     "data": {
      "text/plain": [
       "<matplotlib.collections.PathCollection at 0x399b810>"
      ]
     },
     "execution_count": 8,
     "metadata": {},
     "output_type": "execute_result"
    },
    {
     "data": {
      "image/png": "[encoded data removed]",
      "text/plain": [
       "<matplotlib.figure.Figure at 0x38d5210>"
      ]
     },
     "metadata": {},
     "output_type": "display_data"
    }
   ],
   "source": [
    "iters = 500\n",
    "m0 =5\n",
    "m1 =15 \n",
    "m_arr = map(lambda x: int(round(x)),  np.linspace(m0, m1, 10))\n",
    "print m_arr\n",
    "#save = [ x[:] for x in [[0]*iters]*len(m_arr)]\n",
    "save = []\n",
    "count = 0\n",
    "\n",
    "for m in m_arr:\n",
    "    prior_levels = [1./(m+1)]*(m+1)\n",
    "    for iter in xrange(iters):\n",
    "        sample = np.random.normal(0,1,m)\n",
    "        save.append((m, inclusion_post(sample, 1, 1., m, prior_levels)))\n",
    "    print m\n",
    "\n",
    "\n",
    "plt.scatter( [ save[i][0] for i in xrange(0,len(save))], [ save[i][1] for i in xrange(0,len(save))]) "
   ]
  },
  {
   "cell_type": "code",
   "execution_count": 25,
   "metadata": {
    "collapsed": false,
    "scrolled": true
   },
   "outputs": [
    {
     "name": "stdout",
     "output_type": "stream",
     "text": [
      "[ 0.          0.33333333  0.66666667  1.          1.33333333  1.66666667\n",
      "  2.          2.33333333  2.66666667  3.          3.33333333  3.66666667\n",
      "  4.          4.33333333  4.66666667  5.          5.33333333  5.66666667\n",
      "  6.          6.33333333  6.66666667  7.          7.33333333  7.66666667\n",
      "  8.        ]\n"
     ]
    }
   ],
   "source": [
    "# plot theta versus P(mu | x)\n",
    "m = 100\n",
    "kmax = 3\n",
    "iters = 100\n",
    "theta0 = 0\n",
    "theta1 = 8\n",
    "theta_arr = np.linspace(theta0, theta1, 25)\n",
    "print theta_arr\n",
    "#save = [ x[:] for x in [[0]*iters]*len(m_arr)]\n",
    "res = []\n",
    "\n",
    "\n",
    "prior_levels = [1./(kmax+1)]*(kmax+1)\n",
    "for theta in theta_arr:\n",
    "    for iter in xrange(iters):\n",
    "        sample = np.random.normal(0,1,m)\n",
    "        sample[0] = theta\n",
    "        res.append((theta, inclusion_post(sample, 1, 1., kmax, prior_levels)))\n",
    "    #print theta\n",
    "    \n",
    "#plt.scatter( [ res[i][0] for i in xrange(0,len(res))], [ res[i][1] for i in xrange(0,len(res))]) "
   ]
  },
  {
   "cell_type": "code",
   "execution_count": 26,
   "metadata": {
    "collapsed": false
   },
   "outputs": [
    {
     "data": {
      "image/png": "[encoded data removed]",
      "text/plain": [
       "<matplotlib.figure.Figure at 0x10cd5ecd0>"
      ]
     },
     "metadata": {},
     "output_type": "display_data"
    }
   ],
   "source": [
    "# boxplots of inclusion prob v.s. theta \n",
    "all_res =[]\n",
    "for theta in theta_arr:\n",
    "    dat1 = []\n",
    "    for i in xrange(0,len(res)):\n",
    "        if res[i][0]== theta:\n",
    "            dat1.append(res[i][1])\n",
    "    all_res.append(dat1)\n",
    "plt.show()\n",
    "plt.boxplot(all_res)\n",
    "locs, labels = plt.xticks()\n",
    "plt.setp(labels, rotation=90)\n",
    "ylabel_simplified = map(lambda x: '%.2f' % x, theta_arr) #only display two decimal places\n",
    "plt.xticks(range(1,len(theta_arr)+1,1), ylabel_simplified)\n",
    "plt.xlabel(r'$\\theta_i$')\n",
    "plt.ylabel(r'inclusion probability')\n",
    "plt.savefig('power_versus_m.pdf')"
   ]
  },
  {
   "cell_type": "code",
   "execution_count": 66,
   "metadata": {
    "collapsed": false
   },
   "outputs": [],
   "source": [
    "#save\n",
    "import csv\n",
    "\n",
    "f = open('theta_vs_inclusion_prob.csv','wb') # write mode binary\n",
    "fw = csv.writer(f) # create csv writer\n",
    "fw.writerows(save) \n",
    "f.close() # close file \n"
   ]
  },
  {
   "cell_type": "code",
   "execution_count": 18,
   "metadata": {
    "collapsed": false,
    "scrolled": true
   },
   "outputs": [],
   "source": [
    "# historgram of ratios of inclusion probability (true/ est)\n",
    "m = 100\n",
    "iters = 500\n",
    "iter = 0\n",
    "res = []\n",
    "kmax = 3\n",
    "prior_levels = [1./(kmax+1)]*(kmax+1)\n",
    "sumkpk= 0.\n",
    "tau = 1.\n",
    "for k in xrange(1, kmax+1):\n",
    "    sumkpk += k*prior_levels[k]\n",
    "    \n",
    "\n",
    "while(iter < iters):\n",
    "    sample = np.random.normal(0,1,m)\n",
    "    temp1 =     inclusion_post(sample, 3,  1., kmax, prior_levels)\n",
    "    temp2 =     inclusion_post_est(sample, 3,  1., kmax, prior_levels)\n",
    "    #print iter, temp1, temp2\n",
    "    res.append(temp1/temp2)\n",
    "    iter += 1"
   ]
  },
  {
   "cell_type": "code",
   "execution_count": 23,
   "metadata": {
    "collapsed": false
   },
   "outputs": [
    {
     "data": {
      "image/png": "[encoded data removed]",
      "text/plain": [
       "<matplotlib.figure.Figure at 0x10accfb50>"
      ]
     },
     "metadata": {},
     "output_type": "display_data"
    }
   ],
   "source": [
    "# density plot \n",
    "import seaborn as sns\n",
    "from scipy.stats import gaussian_kde\n",
    "\n",
    "#f, (ax1, ax2) = plt.subplots(2, 1, sharex=True)\n",
    "#xx = np.linspace(0.9, 1.3, 100)\n",
    "#scipy_kde = sp.stats.gaussian_kde(np.asarray(res))(xx)\n",
    "#ax2.plot(xx, scipy_kde, c=c2)\n",
    "#density = gaussian_kde(np.array(res))\n",
    "#sns.kdeplot(np.array(res))#[res[i][1] for i in xrange(0,len(res))])#, shade=True);\n",
    "#plt.hold(True) \n",
    "#sns.set_palette(\"hls\")\n",
    "#density = gaussian_kde(res)\n",
    "#xs = np.linspace(0.94,1.03,200)\n",
    "#density.covariance_factor = lambda : .25\n",
    "#density._compute_covariance()\n",
    "#plt.plot(xs,density(xs))\n",
    "plt.show()\n",
    "sns.distplot(np.array(res))#[res[i][1] for i in xrange(0,len(res))])#, shade=True);\n",
    "plt.xlabel('ratio of true and estimate inclusion probability')\n",
    "plt.ylabel('density')\n",
    "\n",
    "plt.savefig('inclusion_prob_ratio_true_est.pdf')\n",
    "\n",
    "#plt.plot(density)\n",
    "#plt.hist(res, bins = 30)\n",
    "\n",
    "#savefig('inclusion_prob_ratio_true_est.pdf')"
   ]
  },
  {
   "cell_type": "markdown",
   "metadata": {},
   "source": [
    "# fixed threshold = 0.05, compute FPP (alpha) "
   ]
  },
  {
   "cell_type": "code",
   "execution_count": null,
   "metadata": {
    "collapsed": false
   },
   "outputs": [],
   "source": [
    "# fixed threshold = 0.05, compute FPP (alpha)\n",
    "from math import exp, log, gamma,sqrt, pi\n",
    "iters = 100  ### FPP = #{FP} / iters\n",
    "counts = 100 ### the number of simulations for fixed m\n",
    "m0 =50\n",
    "m1 =100\n",
    "kmax = 3\n",
    "tau = 1.0\n",
    "m_arr = sorted(list(set(map(lambda x: int(round(x)), np.linspace(m0, m1, 4)))))\n",
    "#m_arr = [300]\n",
    "print m_arr\n",
    "res = []\n",
    "numerator = 0\n",
    "kmax = 2\n",
    "for m in m_arr:\n",
    "    prior_levels = [1./(kmax+1)]*(kmax+1)\n",
    "    sumkpk = 0.\n",
    "    for k in xrange(1, kmax+1):\n",
    "        sumkpk += k*prior_levels[k]\n",
    "\n",
    "    # threshold\n",
    "    threshold = 0.05\n",
    "    # FPP\n",
    "    count = 0\n",
    "    while count < counts:\n",
    "        temp_m = 0.\n",
    "        temp_true_sum = 0.\n",
    "        temp_est_sum = 0.\n",
    "        FP = 0.\n",
    "        for iter in xrange(iters):\n",
    "        # compute FPP \n",
    "            sample = np.random.normal(0,1,m)\n",
    "            # compute FP (yes or no) in each iteration    \n",
    "            for channel in xrange(1, m+1):\n",
    "                #temp =      inclusion_post(sample, channel, tau, kmax, prior_levels) \n",
    "                temp =     inclusion_post_est(sample, channel, tau, kmax, prior_levels) \n",
    "                #print temp, temp2\n",
    "                if temp > threshold:\n",
    "                    FP += 1.\n",
    "                    break\n",
    "                #temp_m += FPP(sample, tau, kmax, prior_level, threshold+0.01) # +1 if a false positive occurs\n",
    "                #print temp_true_sum / iters\n",
    "        if iter%20==0:\n",
    "            print 'm= %d, FPP = %d'% (m, FP / iters)\n",
    "        res.append((m, FP / iters))\n",
    "        count += 1\n",
    " \n",
    "# plt.scatter( [ res[i][0] for i in xrange(0,len(res))], [ res[i][1] for i in xrange(0,len(res))]) "
   ]
  },
  {
   "cell_type": "code",
   "execution_count": 40,
   "metadata": {
    "collapsed": false
   },
   "outputs": [
    {
     "name": "stdout",
     "output_type": "stream",
     "text": [
      "0.05\n",
      "500\n",
      "0.0729567425216\n",
      "567\n",
      "0.0635579300425\n",
      "633\n",
      "0.056323258684\n",
      "700\n",
      "0.050433574111\n"
     ]
    },
    {
     "data": {
      "image/png": "[encoded data removed]",
      "text/plain": [
       "<matplotlib.figure.Figure at 0x10c2af310>"
      ]
     },
     "metadata": {},
     "output_type": "display_data"
    }
   ],
   "source": [
    "all_res =[]\n",
    "import seaborn as sns\n",
    "#print m_arr.remove(150)\n",
    "#print m_arr\n",
    "for m in m_arr:\n",
    "    dat1 = []\n",
    "    for i in xrange(0,len(res)):\n",
    "        if res[i][0]== m:\n",
    "            dat1.append(res[i][1])\n",
    "    all_res.append(dat1)\n",
    "print threshold\n",
    "plt.show()\n",
    "num_plot = 0\n",
    "#theoretical FPP:\n",
    "for m in m_arr:\n",
    "    print m\n",
    "    theory_val = 1. - (1. - 1./m * (sumkpk*(1-threshold)/threshold)**((1.+tau**2)/tau**2) /   \\\n",
    "                 m**(1/tau**2)*(log(threshold/(1-threshold)*sqrt(1+tau**2)*(m/sumkpk-1)))**(-0.5)* \\\n",
    "                       tau/sqrt(pi)*(1+tau**2)**(-1.-0.5/tau**2))**m\n",
    "    theory_val2 = (sumkpk*(1-threshold)/threshold)**((1.+tau**2)/tau**2) /   \\\n",
    "                 m**(1/tau**2)*(log(threshold/(1-threshold)*sqrt(1+tau**2)*(m/sumkpk-1)))**(-0.5)* \\\n",
    "                       tau/sqrt(pi)*(1+tau**2)**(-1.-0.5/tau**2)\n",
    "    print theory_val\n",
    " #   plt.plot([num_plot+0.6,num_plot+1.4],[theory_val,theory_val], 'black')\n",
    "    plt.plot([num_plot+0.6,num_plot+1.4],[theory_val2,theory_val2], 'black')\n",
    "    num_plot +=1\n",
    "    plt.hold(True) \n",
    "\n",
    "test = plt.boxplot(all_res)#,  order=np.arange(1, 7), palette=\"Blues_d\")\n",
    "locs, labels = plt.xticks()\n",
    "#plt.setp(labels, rotation=90)\n",
    "plt.xticks(range(1,len(m_arr)+1,1), m_arr)\n",
    "plt.xlabel('number of hypotheses')\n",
    "plt.ylabel('False Positive Rate')\n",
    "plt.savefig('FPP_true_pred.pdf')"
   ]
  },
  {
   "cell_type": "code",
   "execution_count": 38,
   "metadata": {
    "collapsed": false
   },
   "outputs": [
    {
     "name": "stdout",
     "output_type": "stream",
     "text": [
      "300\n",
      "0.136271378787\n"
     ]
    }
   ],
   "source": [
    "#theoretical FPP:\n",
    "print m \n",
    "threshold =0.05\n",
    "print (sumkpk*(1-threshold)/threshold)**((1.+tau**2)/tau**2) / m**(1/tau**2)*(log(threshold/(1-threshold)*sqrt(1+tau**2)*(m/sumkpk-1)))**(-0.5)*tau/sqrt(pi)*(1+tau**2)**(-1.-0.5/tau**2)\n"
   ]
  },
  {
   "cell_type": "code",
   "execution_count": 39,
   "metadata": {
    "collapsed": false
   },
   "outputs": [
    {
     "data": {
      "text/plain": [
       "<matplotlib.collections.PathCollection at 0x10c1bed90>"
      ]
     },
     "execution_count": 39,
     "metadata": {},
     "output_type": "execute_result"
    },
    {
     "data": {
      "image/png": "[encoded data removed]",
      "text/plain": [
       "<matplotlib.figure.Figure at 0x10c57ba50>"
      ]
     },
     "metadata": {},
     "output_type": "display_data"
    }
   ],
   "source": [
    "plt.scatter( [ res[i][0] for i in xrange(0,len(res))], [ res[i][1] for i in xrange(0,len(res))]) "
   ]
  },
  {
   "cell_type": "code",
   "execution_count": 32,
   "metadata": {
    "collapsed": false
   },
   "outputs": [],
   "source": [
    "kmax =2 \n",
    "prior_levels = [1./(kmax+1)]*(kmax+1)\n",
    "sumkpk = 0.\n",
    "for k in xrange(1, kmax+1):\n",
    "    sumkpk += k*prior_levels[k]"
   ]
  },
  {
   "cell_type": "code",
   "execution_count": 53,
   "metadata": {
    "collapsed": false
   },
   "outputs": [
    {
     "name": "stdout",
     "output_type": "stream",
     "text": [
      "0.0346900239093\n",
      "0.0251964939967\n",
      "0.019674963841\n",
      "0.0160976367833\n"
     ]
    }
   ],
   "source": [
    "threshold =0.05\n",
    "for m in m_arr:\n",
    "    print (sumkpk*(1-threshold)/threshold)**((1.+tau**2)/tau**2) / m**(1/tau**2)*(log(threshold/(1-threshold)*sqrt(1+tau**2)*(m/sumkpk-1)))**(-0.5)*tau/sqrt(pi)*(1+tau**2)**(-1.-0.5/tau**2)\n",
    "#print log(2.71)"
   ]
  },
  {
   "cell_type": "markdown",
   "metadata": {},
   "source": [
    "# fixed threshold = 0.05, under alternative model (theta2 != 0), compute FPP (alpha)"
   ]
  },
  {
   "cell_type": "code",
   "execution_count": null,
   "metadata": {
    "collapsed": false
   },
   "outputs": [],
   "source": [
    "# fixed threshold = 0.05, under alternative model (theta2 != 0), compute FPP (alpha)\n",
    "from math import exp, log, gamma,sqrt, pi\n",
    "iters = 100  ### FPP = #{FP} / iters\n",
    "counts = 300 ### the number of simulations for fixed m\n",
    "m = 300\n",
    "theta0 =0.5\n",
    "theta1 =4.5\n",
    "kmax = 3\n",
    "tau = 1.0\n",
    "theta_arr = np.linspace(theta0, theta1, 6)\n",
    "#m_arr = [300]\n",
    "#print m_arr\n",
    "res = []\n",
    "numerator = 0\n",
    "kmax = 2\n",
    "theta2 = 1.\n",
    "for theta in theta_arr:\n",
    "    prior_levels = [1./(kmax+1)]*(kmax+1)\n",
    "    sumkpk = 0.\n",
    "    for k in xrange(1, kmax+1):\n",
    "        sumkpk += k*prior_levels[k]\n",
    "\n",
    "    # threshold\n",
    "    threshold = 0.05\n",
    "    # FPP\n",
    "    count = 0\n",
    "    while count < counts:\n",
    "        temp_m = 0.\n",
    "        temp_true_sum = 0.\n",
    "        temp_est_sum = 0.\n",
    "        FP = 0.\n",
    "        for iter in xrange(iters):\n",
    "        # compute FPP \n",
    "            sample = np.random.normal(0,1,m)\n",
    "            sample[1] = theta\n",
    "            # compute FP (yes or no) in each iteration    \n",
    "            for channel in xrange(1, m+1):\n",
    "                #temp =      inclusion_post(sample, channel, tau, kmax, prior_levels) \n",
    "                temp =     inclusion_post_est(sample, channel, tau, kmax, prior_levels) \n",
    "                #print temp, temp2\n",
    "                if temp > threshold:\n",
    "                    FP += 1.\n",
    "                    break\n",
    "                #temp_m += FPP(sample, tau, kmax, prior_level, threshold+0.01) # +1 if a false positive occurs\n",
    "                #print temp_true_sum / iters\n",
    "        if iter%20==0:\n",
    "            print 'm = %d, theta= %d, FPP = %d'% (m, theta, FP / iters)\n",
    "        res.append((m, theta, FP / iters))\n",
    "        count += 1\n",
    " \n",
    "# plt.scatter( [ res[i][0] for i in xrange(0,len(res))], [ res[i][1] for i in xrange(0,len(res))]) "
   ]
  },
  {
   "cell_type": "code",
   "execution_count": null,
   "metadata": {
    "collapsed": false
   },
   "outputs": [],
   "source": []
  },
  {
   "cell_type": "code",
   "execution_count": 118,
   "metadata": {
    "collapsed": false
   },
   "outputs": [
    {
     "name": "stdout",
     "output_type": "stream",
     "text": [
      "[1, 3, 11, 38, 129, 433, 1459, 4915]\n"
     ]
    }
   ],
   "source": []
  },
  {
   "cell_type": "markdown",
   "metadata": {},
   "source": [
    "# testing threshold which guarantee fixed FPP (alpha) "
   ]
  },
  {
   "cell_type": "code",
   "execution_count": 47,
   "metadata": {
    "collapsed": false
   },
   "outputs": [
    {
     "name": "stdout",
     "output_type": "stream",
     "text": [
      "[10, 12, 15, 19, 24, 29, 36, 45]\n",
      "threshold = 0.604479452958\n",
      "threshold = 0.591855585801\n",
      "threshold = 0.577039036642\n",
      "threshold = 0.562011810247\n",
      "threshold = 0.547756876932\n",
      "threshold = 0.536599165251\n",
      "threshold = 0.524238683174\n",
      "threshold = 0.511881021561\n"
     ]
    }
   ],
   "source": [
    "# testing threshold which guarantee fixed FPP (alpha) ### RUN in Hardac ###\n",
    "from math import exp, log, gamma,sqrt, pi\n",
    "alpha = 0.05  ### empirical FPP should be alpha\n",
    "iters = 500  ### FPP = #{FP} / iters\n",
    "counts = 500 ### the number of simulations for fixed m\n",
    "#m0 =100\n",
    "#m1 =5000\n",
    "kmax = 2\n",
    "tau = 3.0\n",
    "#m_arr = sorted(list(set(map(lambda x: int(round(x)), np.linspace(m0, m1, 5)))))\n",
    "m_arr = sorted(list(set(map(lambda x: int(round(exp(x))), np.linspace(2.3, 3.8, 8)))))\n",
    "#m_arr = [10000]\n",
    "print m_arr\n",
    "res = []\n",
    "res_arr = []\n",
    "numerator = 0\n",
    "num_plot = 0\n",
    "\n",
    "for m in m_arr:\n",
    "    prior_levels = [1./(kmax+1)]*(kmax+1)\n",
    "    sumkpk = 0.\n",
    "    for k in xrange(1, kmax+1):\n",
    "        sumkpk += k*prior_levels[k]\n",
    "\n",
    "    # threshold\n",
    "    numerator = sumkpk * (m**(-1./(1.+tau**2))) *(pi*(alpha**2)*log(m))**(-tau**2/2./ (1.+tau**2)) / sqrt(1.+tau**2)#/ (1- sumkpk/m)\n",
    "    threshold = numerator / (1. + numerator)\n",
    "    print 'threshold =', str( threshold)\n",
    "    # FPP\n",
    "    count = 0\n",
    "    res_m = []\n",
    "    while count < counts:\n",
    "        temp_m = 0.\n",
    "        temp_true_sum = 0.\n",
    "        temp_est_sum = 0.\n",
    "        FP = 0.\n",
    "        for iter in xrange(iters):\n",
    "        # compute FPP \n",
    "            sample = np.random.normal(0,1,m)\n",
    "            # compute FP (yes or no) in each iteration    \n",
    "            for channel in xrange(1, m+1):\n",
    "                #temp =      inclusion_post(sample, channel, tau, kmax, prior_levels) \n",
    "                temp =     inclusion_post_est(sample, channel, tau, kmax, prior_levels) \n",
    "                #print temp, temp2\n",
    "                if temp > threshold:\n",
    "                #if abs(sample[channel-1])>sqrt(2*log(m / sqrt(pi*alpha**2*log(m)))):\n",
    "                    FP += 1.\n",
    "                    break\n",
    "                #temp_m += FPP(sample, tau, kmax, prior_level, threshold+0.01) # +1 if a false positive occurs\n",
    "                #print temp_true_sum / iters\n",
    "        if iter%200==0:\n",
    "            print 'm= %d, FPP = %d'% (m, FP / iters)\n",
    "        res.append((m, FP / iters))\n",
    "        #print res\n",
    "        count += 1\n",
    "\n",
    " \n",
    "# plt.scatter( [ res[i][0] for i in xrange(0,len(res))], [ res[i][1] for i in xrange(0,len(res))]) "
   ]
  },
  {
   "cell_type": "code",
   "execution_count": 49,
   "metadata": {
    "collapsed": true
   },
   "outputs": [],
   "source": [
    "#save to csv\n",
    "import csv\n",
    "## WARNING: check file name before save ##\n",
    "\n",
    "with open('fixed_power_alpha_iter_counts_005_500_500_10_50.csv','w') as out:\n",
    "    csv_out=csv.writer(out)\n",
    "    csv_out.writerow(['m','FPP'])\n",
    "    for row in res:\n",
    "        csv_out.writerow(row)"
   ]
  },
  {
   "cell_type": "code",
   "execution_count": 50,
   "metadata": {
    "collapsed": false
   },
   "outputs": [
    {
     "name": "stdout",
     "output_type": "stream",
     "text": [
      "[10, 12, 15, 19, 24, 29, 36, 45]\n"
     ]
    },
    {
     "data": {
      "text/plain": [
       "{'boxes': [<matplotlib.lines.Line2D at 0x10a59cc90>,\n",
       "  <matplotlib.lines.Line2D at 0x10a6d2890>,\n",
       "  <matplotlib.lines.Line2D at 0x10a514bd0>,\n",
       "  <matplotlib.lines.Line2D at 0x10a6c8d90>,\n",
       "  <matplotlib.lines.Line2D at 0x10a529850>,\n",
       "  <matplotlib.lines.Line2D at 0x10a5c7810>,\n",
       "  <matplotlib.lines.Line2D at 0x107dbf650>,\n",
       "  <matplotlib.lines.Line2D at 0x10a5b5990>],\n",
       " 'caps': [<matplotlib.lines.Line2D at 0x10a60afd0>,\n",
       "  <matplotlib.lines.Line2D at 0x10ae8c090>,\n",
       "  <matplotlib.lines.Line2D at 0x10b3b3a90>,\n",
       "  <matplotlib.lines.Line2D at 0x10a5ab8d0>,\n",
       "  <matplotlib.lines.Line2D at 0x10a665050>,\n",
       "  <matplotlib.lines.Line2D at 0x10a665d10>,\n",
       "  <matplotlib.lines.Line2D at 0x10a622bd0>,\n",
       "  <matplotlib.lines.Line2D at 0x10a622a90>,\n",
       "  <matplotlib.lines.Line2D at 0x10b1e37d0>,\n",
       "  <matplotlib.lines.Line2D at 0x10c584550>,\n",
       "  <matplotlib.lines.Line2D at 0x10b17b8d0>,\n",
       "  <matplotlib.lines.Line2D at 0x10b17b510>,\n",
       "  <matplotlib.lines.Line2D at 0x10a56bc50>,\n",
       "  <matplotlib.lines.Line2D at 0x10a56b690>,\n",
       "  <matplotlib.lines.Line2D at 0x10a6b8550>,\n",
       "  <matplotlib.lines.Line2D at 0x10a6b8690>],\n",
       " 'fliers': [<matplotlib.lines.Line2D at 0x10ae8c690>,\n",
       "  <matplotlib.lines.Line2D at 0x10773ef50>,\n",
       "  <matplotlib.lines.Line2D at 0x10a6c8890>,\n",
       "  <matplotlib.lines.Line2D at 0x10a529a50>,\n",
       "  <matplotlib.lines.Line2D at 0x10ace5a50>,\n",
       "  <matplotlib.lines.Line2D at 0x10779da50>,\n",
       "  <matplotlib.lines.Line2D at 0x10a5b55d0>,\n",
       "  <matplotlib.lines.Line2D at 0x10a6c1090>],\n",
       " 'means': [],\n",
       " 'medians': [<matplotlib.lines.Line2D at 0x10ae8c910>,\n",
       "  <matplotlib.lines.Line2D at 0x10a5ab290>,\n",
       "  <matplotlib.lines.Line2D at 0x10a665650>,\n",
       "  <matplotlib.lines.Line2D at 0x10a7135d0>,\n",
       "  <matplotlib.lines.Line2D at 0x10ace5290>,\n",
       "  <matplotlib.lines.Line2D at 0x10b17b850>,\n",
       "  <matplotlib.lines.Line2D at 0x10774dad0>,\n",
       "  <matplotlib.lines.Line2D at 0x10a6b8d90>],\n",
       " 'whiskers': [<matplotlib.lines.Line2D at 0x10acadd50>,\n",
       "  <matplotlib.lines.Line2D at 0x10a60a950>,\n",
       "  <matplotlib.lines.Line2D at 0x10a6d2810>,\n",
       "  <matplotlib.lines.Line2D at 0x10b3b3590>,\n",
       "  <matplotlib.lines.Line2D at 0x10a6ac410>,\n",
       "  <matplotlib.lines.Line2D at 0x10a6ac350>,\n",
       "  <matplotlib.lines.Line2D at 0x10a619290>,\n",
       "  <matplotlib.lines.Line2D at 0x10a619390>,\n",
       "  <matplotlib.lines.Line2D at 0x10c56edd0>,\n",
       "  <matplotlib.lines.Line2D at 0x10ae26690>,\n",
       "  <matplotlib.lines.Line2D at 0x10a5c7fd0>,\n",
       "  <matplotlib.lines.Line2D at 0x1064cbb90>,\n",
       "  <matplotlib.lines.Line2D at 0x10be21190>,\n",
       "  <matplotlib.lines.Line2D at 0x10be21c90>,\n",
       "  <matplotlib.lines.Line2D at 0x10be30a90>,\n",
       "  <matplotlib.lines.Line2D at 0x10be30910>]}"
      ]
     },
     "execution_count": 50,
     "metadata": {},
     "output_type": "execute_result"
    },
    {
     "data": {
      "image/png": "[encoded data removed]",
      "text/plain": [
       "<matplotlib.figure.Figure at 0x10af2ea10>"
      ]
     },
     "metadata": {},
     "output_type": "display_data"
    }
   ],
   "source": [
    "all_res =[]\n",
    "#print m_arr.remove(150)\n",
    "print m_arr\n",
    "#m_arr.remove(5000)\n",
    "\n",
    "for m in m_arr:\n",
    "    dat1 = []\n",
    "    for i in xrange(0,len(res)):\n",
    "        if res[i][0]== m:\n",
    "            dat1.append(res[i][1])\n",
    "    all_res.append(dat1)\n",
    "plt.boxplot(all_res)\n",
    "#print all_res"
   ]
  },
  {
   "cell_type": "code",
   "execution_count": 224,
   "metadata": {
    "collapsed": false
   },
   "outputs": [],
   "source": [
    "m_arr = sorted(list(set(map(lambda x: int(round(exp(x))), np.linspace(2, 8.5, 8)))))"
   ]
  },
  {
   "cell_type": "code",
   "execution_count": 29,
   "metadata": {
    "collapsed": false
   },
   "outputs": [
    {
     "name": "stdout",
     "output_type": "stream",
     "text": [
      "0.34458833741\n",
      "\n",
      "49\n",
      "84\n",
      "142\n",
      "241\n",
      "409\n",
      "694\n",
      "1178\n",
      "1998\n"
     ]
    },
    {
     "data": {
      "text/plain": [
       "[<matplotlib.lines.Line2D at 0x10a9f3450>]"
      ]
     },
     "execution_count": 29,
     "metadata": {},
     "output_type": "execute_result"
    },
    {
     "data": {
      "image/png": "[encoded data removed]",
      "text/plain": [
       "<matplotlib.figure.Figure at 0x10a8bb110>"
      ]
     },
     "metadata": {},
     "output_type": "display_data"
    }
   ],
   "source": [
    "# boxplots \n",
    "import seaborn as sns\n",
    "all_res =[]\n",
    "#print m_arr.remove(150)\n",
    "#print m_arr\n",
    "for m in m_arr:\n",
    "    dat1 = []\n",
    "    for i in xrange(0,len(res)):\n",
    "        if res[i][0]== m:\n",
    "            dat1.append(res[i][1])\n",
    "    all_res.append(dat1)\n",
    "print threshold\n",
    "plt.show()\n",
    "num_plot = 0\n",
    "#plt.boxplot(all_res)\n",
    "locs, labels = plt.xticks()\n",
    "plt.setp(labels, rotation=90)\n",
    "plt.xticks(range(1,len(m_arr)+1,1), m_arr)\n",
    "plt.xlabel('number of hypotheses')\n",
    "plt.ylabel('False Positive Rate')\n",
    "means,theory = [], []\n",
    "print\n",
    "#theoretical FPP:\n",
    "for m in m_arr:\n",
    "    print m\n",
    "    #theory_val = (sumkpk*(1-threshold)/threshold)**((1.+tau**2)/tau**2) / m**(1/tau**2)*(log(threshold/(1-threshold)*sqrt(1+tau**2)*(m/sumkpk-1)))**(-0.5)*tau/sqrt(pi)*(1+tau**2)**(-1.-0.5/tau**2)\n",
    "    #theory_val = 1. - (1. - 1./m /sqrt(pi)/sqrt(log(m)))**m\n",
    "    #theory_val = alpha \n",
    "    theory_val2 = 1. - (1. - alpha/m/sqrt(1.-log(pi*alpha**2*log(m))/2./log(m)))**m\n",
    "    #theory_val2 = 1. - (1. - alpha/m)**m\n",
    "    #print theory_val\n",
    "    #print num_plot\n",
    "    means.append(np.mean(all_res[num_plot]))\n",
    "    theory.append(theory_val2)\n",
    "    #plt.plot([num_plot+0.6,num_plot+1.4],[theory_val,theory_val],'black')\n",
    "    #plt.plot([num_plot+0.6,num_plot+1.4],[theory_val2,theory_val2])\n",
    "    num_plot +=1\n",
    "    #plt.hold(True) \n",
    "plt.plot(m_arr, means)\n",
    "plt.plot(m_arr, theory)\n",
    "    \n",
    "    \n",
    "#plt.savefig('fixed_power.pdf', bbox_inches='tight')\n"
   ]
  },
  {
   "cell_type": "code",
   "execution_count": 52,
   "metadata": {
    "collapsed": false
   },
   "outputs": [
    {
     "name": "stdout",
     "output_type": "stream",
     "text": [
      "[36, 241, 10, 12, 45, 1998, 15, 49, 19, 84, 142, 694, 24, 409, 1178, 29]\n"
     ]
    }
   ],
   "source": [
    "# merge simulation results\n",
    "import csv\n",
    "res_dict = {}\n",
    "#filenames = ['fixed_power2.csv','fixed_power3.csv','fixed_power4.csv','fixed_power5.csv']\n",
    "filenames = ['fixed_power_alpha_iter_counts_005_500_500_0_3000.csv', 'fixed_power_alpha_iter_counts_005_500_500_10_50.csv']\n",
    "\n",
    "for filename in filenames:\n",
    "    with open(filename, 'rb') as f:\n",
    "        reader = csv.DictReader(f)\n",
    "        for row in reader:\n",
    "            temp_m, temp_FPP = int(row['m']), float(row['FPP'])\n",
    "            #print temp_m, temp_FPP\n",
    "            if temp_m in res_dict.keys():\n",
    "                res_dict[temp_m].append(temp_FPP)\n",
    "                #res_dict[temp_m] = res_dict[temp_m].append(temp_FPP)\n",
    "            else:\n",
    "                res_dict.update({temp_m: [temp_FPP]})\n",
    "            #print res_dict\n",
    "#print res_dict\n",
    "print res_dict.keys()\n",
    "        "
   ]
  },
  {
   "cell_type": "code",
   "execution_count": 53,
   "metadata": {
    "collapsed": false
   },
   "outputs": [
    {
     "name": "stdout",
     "output_type": "stream",
     "text": [
      "0.511881021561\n",
      "10\n",
      "12\n",
      "15\n",
      "19\n",
      "24\n",
      "29\n",
      "36\n",
      "45\n",
      "49\n",
      "84\n",
      "142\n",
      "241\n",
      "409\n",
      "694\n",
      "1178\n",
      "1998\n"
     ]
    },
    {
     "data": {
      "image/png": "[encoded data removed]",
      "text/plain": [
       "<matplotlib.figure.Figure at 0x10ae8c510>"
      ]
     },
     "metadata": {},
     "output_type": "display_data"
    }
   ],
   "source": [
    "# boxplots for all simulations\n",
    "import seaborn as sns\n",
    "all_res =[]\n",
    "m_arr = sorted(res_dict.keys())\n",
    "\n",
    "for m in m_arr:\n",
    "    dat1 = []\n",
    "    all_res.append(res_dict[m])\n",
    "\n",
    "print threshold\n",
    "plt.show()\n",
    "num_plot = 0\n",
    "plt.boxplot(all_res)\n",
    "locs, labels = plt.xticks()\n",
    "plt.setp(labels, rotation=90)\n",
    "plt.xticks(range(1,len(m_arr)+1,1), m_arr)\n",
    "plt.xlabel('number of hypotheses')\n",
    "plt.ylabel('False Positive Rate')\n",
    "means = []\n",
    "\n",
    "#theoretical FPP:\n",
    "for m in m_arr:\n",
    "    print m\n",
    "    #theory_val = (sumkpk*(1-threshold)/threshold)**((1.+tau**2)/tau**2) / m**(1/tau**2)*(log(threshold/(1-threshold)*sqrt(1+tau**2)*(m/sumkpk-1)))**(-0.5)*tau/sqrt(pi)*(1+tau**2)**(-1.-0.5/tau**2)\n",
    "    #theory_val = 1. - (1. - 1./m /sqrt(pi)/sqrt(log(m)))**m\n",
    "    #theory_val = alpha \n",
    "    theory_val2 = 1. - (1. - alpha/m/sqrt(1.-log(pi*alpha**2*log(m))/2./log(m)))**m\n",
    "    #means.append( np.mean(res_dict[m]) ) \n",
    "    #print theory_val\n",
    "    #plt.plot([num_plot+0.6,num_plot+1.4],[theory_val,theory_val],'black')\n",
    "    #plt.plot([num_plot+0.6,num_plot+1.4],[ np.mean(res_dict[m]), np.mean(res_dict[m])],'green')\n",
    "    plt.plot([num_plot+0.6,num_plot+1.4],[theory_val2,theory_val2],'black')\n",
    "    num_plot +=1\n",
    "    #plt.hold(True) \n",
    "\n",
    "plt.savefig('fixed_power.pdf', bbox_inches='tight')\n"
   ]
  },
  {
   "cell_type": "code",
   "execution_count": 207,
   "metadata": {
    "collapsed": false
   },
   "outputs": [
    {
     "data": {
      "text/plain": [
       "0.0"
      ]
     },
     "execution_count": 207,
     "metadata": {},
     "output_type": "execute_result"
    }
   ],
   "source": [
    "#map(lambda x: log(x), )\n",
    "(res_dict[m])"
   ]
  },
  {
   "cell_type": "code",
   "execution_count": 58,
   "metadata": {
    "collapsed": false
   },
   "outputs": [
    {
     "data": {
      "image/png": "[encoded data removed]",
      "text/plain": [
       "<matplotlib.figure.Figure at 0x10a6905d0>"
      ]
     },
     "metadata": {},
     "output_type": "display_data"
    }
   ],
   "source": [
    "# means for all simulations\n",
    "import seaborn as sns\n",
    "from matplotlib.legend_handler import HandlerLine2D\n",
    "all_res =[]\n",
    "m_arr = sorted(res_dict.keys())\n",
    "means = []\n",
    "theory = []\n",
    "\n",
    "for m in m_arr:\n",
    "    dat1 = []\n",
    "    means.append( np.mean(res_dict[m]) ) \n",
    "    theory_val2 = 1. - (1. - alpha/m/sqrt(1.-log(pi*alpha**2*log(m))/2./log(m)))**m\n",
    "    theory.append(theory_val2)\n",
    "\n",
    "locs, labels = plt.xticks()\n",
    "#plt.setp(labels, rotation=90)\n",
    "#plt.xticks(range(1,len(m_arr)+1,1), m_arr)\n",
    "plt.xlabel('number of hypotheses')\n",
    "plt.ylabel('False Positive Rate')\n",
    "#line0, = plt.plot(m_arr, [0.05]*len(m_arr), label = r\"alpha\")\n",
    "grid = m_arr\n",
    "grid_new = np.linspace(min(m_arr), max(m_arr), 300)\n",
    "\n",
    "#line1, = plt.plot(grid_new, spline(grid, means, grid_new ), label = 'simulated FPP' )\n",
    "line2, = plt.plot(m_arr, means,  label = 'simulated FPP' )\n",
    "line1, = plt.plot(m_arr, theory, label = r\"$1-(1-\\frac{0.05}{m})^m$\")\n",
    "plt.legend(handles=[line1, line2], loc =4 ,prop={'size':16})\n",
    "plt.tight_layout()\n",
    "plt.savefig('fixed_power.png')"
   ]
  },
  {
   "cell_type": "code",
   "execution_count": 102,
   "metadata": {
    "collapsed": false
   },
   "outputs": [
    {
     "name": "stdout",
     "output_type": "stream",
     "text": [
      "[0.035650000000000015, 0.03265000000000004, 0.029630000000000017, 0.029706666666666715, 0.029826666666666668, 0.029173333333333329, 0.029443333333333294, 0.027676666666666683, 0.027550000000000047, 0.027750000000000025, 0.027700000000000002, 0.027353333333333313, 0.027266666666666634, 0.027496666666666669, 0.02851666666666669, 0.027723333333333378, 0.028000000000000025, 0.026756666666666651, 0.026352657004830915]\n"
     ]
    },
    {
     "data": {
      "image/png": "[encoded data removed]",
      "text/plain": [
       "<matplotlib.figure.Figure at 0x10d54e310>"
      ]
     },
     "metadata": {},
     "output_type": "display_data"
    }
   ],
   "source": [
    "# plot empirical & theoretical mean in log scale\n",
    "import seaborn as sns\n",
    "all_res =[]\n",
    "theory_res = []\n",
    "#print m_arr.remove(150)\n",
    "#print m_arr\n",
    "for m in m_arr:\n",
    "    all_res.append(alpha - np.mean([res[i][1] for i in xrange(len(res)) if res[i][0] == m ]))\n",
    "   # theory_res.append(1. - (1. - alpha/m)**m)\n",
    "plt.plot(m_arr, all_res)\n",
    "print all_res\n",
    "#plt.plot(m_arr, theory_res)"
   ]
  },
  {
   "cell_type": "code",
   "execution_count": 131,
   "metadata": {
    "collapsed": false
   },
   "outputs": [
    {
     "name": "stdout",
     "output_type": "stream",
     "text": [
      "0.0477321268622\n"
     ]
    }
   ],
   "source": [
    "sqrt(1- log(log(300))/2./log(300))\n",
    "m = 1e4\n",
    "\n",
    "#compute error\n"
   ]
  },
  {
   "cell_type": "code",
   "execution_count": 163,
   "metadata": {
    "collapsed": false,
    "scrolled": true
   },
   "outputs": [
    {
     "name": "stdout",
     "output_type": "stream",
     "text": [
      "1.03426678241\n",
      "0.0096686852658\n"
     ]
    }
   ],
   "source": [
    "m = 1e25\n",
    "temp= sqrt(1-log(log(m))/log(m)-log(pi*0.01**2)/log(m))\n",
    "print temp\n",
    "print 0.01 / temp"
   ]
  },
  {
   "cell_type": "code",
   "execution_count": 45,
   "metadata": {
    "collapsed": false
   },
   "outputs": [
    {
     "ename": "IndentationError",
     "evalue": "unexpected indent (<ipython-input-45-df3c916a62ef>, line 36)",
     "output_type": "error",
     "traceback": [
      "\u001b[0;36m  File \u001b[0;32m\"<ipython-input-45-df3c916a62ef>\"\u001b[0;36m, line \u001b[0;32m36\u001b[0m\n\u001b[0;31m    threshold = numerator / (1. + numerator)\u001b[0m\n\u001b[0m    ^\u001b[0m\n\u001b[0;31mIndentationError\u001b[0m\u001b[0;31m:\u001b[0m unexpected indent\n"
     ]
    }
   ],
   "source": [
    "m0 =7\n",
    "m1 =14\n",
    "alpha = 0.9\n",
    "tau = 1.0\n",
    "counts = 50\n",
    "iters = 500\n",
    "res = []\n",
    "m_arr = (list(set(map(lambda x: int(round(x)), np.linspace(m0, m1, 7)))))\n",
    "print m_arr\n",
    "\n",
    "kmax = 3\n",
    "\n",
    "for m in m_arr:\n",
    "    #kmax = int(round(m/3.))\n",
    "    prior_levels = [1./(kmax+1)]*(kmax+1)\n",
    "    sumkpk = 0.\n",
    "    # threshold\n",
    "    for k in xrange(0, kmax+1):\n",
    "        sumkpk += k*prior_levels[k]\n",
    "    numerator = sumkpk * (m**(-1./(1.+tau**2))) *(pi*(alpha**2)*log(m))**(-tau**2/2./ (1.+tau**2)) / sqrt(1.+tau**2)\n",
    "    threshold = numerator / (1. + numerator)    \n",
    "    print m, kmax,  threshold\n",
    "    count = 0\n",
    "    while count < counts:\n",
    "        temp_m = 0\n",
    "        for iter in xrange(iters):\n",
    "            sample = np.random.normal(0,1,m)\n",
    "            if inclusion_post(sample, channel, tau, kmax, prior_levels) > threshold:\n",
    "                temp_m += 1.\n",
    "        res.append((m, temp_m/ iters))\n",
    "        count += 1\n",
    "    print m\n",
    " \n",
    " \n",
    "plt.scatter( [ res[i][0] for i in xrange(0,len(res))], [ res[i][1] for i in xrange(0,len(res))]) \n",
    "    threshold = numerator / (1. + numerator)    \n",
    "    print m, kmax,  threshold\n",
    "    count = 0\n",
    "    while count < counts:\n",
    "        temp_m = 0\n",
    "        for iter in xrange(iters):\n",
    "            sample = np.random.normal(0,1,m)\n",
    "            if inclusion_post(sample, tau, kmax, prior_levels) > threshold:\n",
    "                temp_m += 1.\n",
    "        res.append((m, temp_m/ iters))\n",
    "        count += 1\n",
    "    print m\n",
    " \n",
    " \n",
    "plt.scatter( [ res[i][0] for i in xrange(0,len(res))], [ res[i][1] for i in xrange(0,len(res))]) "
   ]
  },
  {
   "cell_type": "markdown",
   "metadata": {},
   "source": [
    "# posterior probability of p #"
   ]
  },
  {
   "cell_type": "code",
   "execution_count": 21,
   "metadata": {
    "collapsed": false
   },
   "outputs": [],
   "source": [
    "### posterior probability of p ###\n",
    "\n",
    "k = 1\n",
    "dat = np.random.normal(0,1,100)\n",
    "tau = 1.\n",
    "kmax = 5\n",
    "\n",
    "def sum_likelihood_level(dat, tau, k):\n",
    "    m = len(dat)\n",
    "    comb_null = itertools.combinations(range(0,m), k)\n",
    "    #print comb_null\n",
    "    res = []\n",
    "    tausq = tau**2\n",
    "    \n",
    "    for gamma in comb_null: #gamma = tuple\n",
    "        #print gamma\n",
    "        logLH = 0.          #loglikelihood \n",
    "        # probably can count # of nonzero idx (after it reaches kmax, no nonull model)\n",
    "        for idx in xrange(m):\n",
    "            if idx not in gamma:\n",
    "                logLH += -0.5*dat[idx]**2\n",
    "            else:\n",
    "                logLH += -0.5*log(1.+tausq) -0.5/(1.+tausq)*dat[idx]**2\n",
    "        res.append(exp(logLH))\n",
    "    #print res\n",
    "    return sum(res)\n",
    "\n",
    "def post_p(dat, tau, kmax, p_arr):\n",
    "    m = len(dat)\n",
    "    numerator = [0]*len(p_arr)\n",
    "    denominator = 0.\n",
    "    for k in xrange(kmax+1):\n",
    "        sum_LH = sum_likelihood_level(dat, tau, k)\n",
    "        for i in xrange(len(p_arr)):\n",
    "            numerator[i] += sum_LH * (p_arr[i]**k)*((1-p_arr[i])**(m-k))\n",
    "        denominator += sum_LH / (kmax + 1) / sp.misc.comb(m,k)\n",
    "    return map(lambda x: x / denominator, numerator)\n",
    "\n",
    "from operator import add\n",
    "def noisy_dat(m, proportion, tau):\n",
    "    dat = np.random.normal(0, 1, m)\n",
    "    # generate noise (std = tau)\n",
    "    cutoff = int(round(proportion*m))\n",
    "    dat2 = np.random.normal(0, tau, cutoff)\n",
    "    dat2 = list(dat2) + [0.]*(m-cutoff)\n",
    "    #print cutoff, dat2\n",
    "    return map(add, dat, dat2)\n",
    "\n",
    "\n",
    "\n",
    "#A =  map(lambda x: exp( -0.5* x**2), dat )\n",
    "#B =  map(lambda x: (1.0 + tau **2)**(-0.5)* exp( -0.5* x**2 /(1.+tau**2) ), dat )\n",
    "\n",
    "\n",
    "#likelihood_null = [reduce(mul, comb) for comb in itertools.combinations(A, k)]\n",
    "#likelihood_nonnull = [reduce(mul, comb) for comb in itertools.combinations(B, k)]\n",
    "#likelihood = \n",
    "\n"
   ]
  },
  {
   "cell_type": "code",
   "execution_count": 37,
   "metadata": {
    "collapsed": false
   },
   "outputs": [
    {
     "name": "stdout",
     "output_type": "stream",
     "text": [
      "2.0 20\n",
      "[0.0, 0.066666666666666666, 0.13333333333333333, 0.20000000000000001, 0.26666666666666666, 0.33333333333333331, 0.40000000000000002, 0.6, 0.85, 1]\n",
      "the log complexity is 16.8586758848\n"
     ]
    }
   ],
   "source": [
    "m = 20\n",
    "tau = round(sqrt(2*log(m)))\n",
    "#kmax = int(round(m**(1./(1.+tau**2))))\n",
    "#tau = 1.\n",
    "kmax = 20\n",
    "print tau, kmax\n",
    "grid = list(np.linspace(0,0.4,7))+[0.6, 0.85, 1]\n",
    "print grid\n",
    "#est. complexity\n",
    "complexity = 0.\n",
    "for k in xrange(kmax+1):\n",
    "    complexity +=  sp.misc.comb(m,k)\n",
    "complexity *= m\n",
    "print 'the log complexity is', log(complexity)\n"
   ]
  },
  {
   "cell_type": "code",
   "execution_count": 38,
   "metadata": {
    "collapsed": false
   },
   "outputs": [
    {
     "name": "stdout",
     "output_type": "stream",
     "text": [
      "[6.4856759627936453, 4.3372475798135133, 2.8523955915302315, 1.8431098837999347, 1.1689410610785127, 0.72681785604416826, 0.4424567347295153, 0.086491576880874985, 0.0077188013975260728, 0.0013846289101663509]\n",
      "[1.9158089534887919, 1.9773123474497032, 1.9323557768777051, 1.8090479179787675, 1.634220104256058, 1.4312550206556975, 1.2190783710398696, 0.64842155429817616, 0.21785411663340495, 0.095195893849275473]\n",
      "[0.0026601317620555285, 0.29442480094709528, 0.75495316572007087, 1.244217001220782, 1.6384674027868071, 1.8646737914672706, 1.9051278390668296, 1.264403660672808, 0.34085966727680539, 0.10196985169300304]\n",
      "[5.71262015901854e-06, 0.0032480250677980778, 0.022243460160675882, 0.078128861311324335, 0.1938653374513124, 0.38457246845196319, 0.64930419050502264, 1.6054061102867985, 1.8534816214290171, 1.2999417410615182]\n",
      "[4.5312987198569885e-13, 1.2048503603789837e-05, 0.00027145624766365911, 0.0021018252684671412, 0.0096970723557525361, 0.032472232218385529, 0.086949623391059855, 0.69195335505412159, 2.7943436004484763, 4.0333978986632149]\n"
     ]
    }
   ],
   "source": [
    "res1 = post_p(noisy_dat(m,0,  tau), tau, kmax, grid)\n",
    "print res1\n",
    "res2= post_p(noisy_dat(m,0.25,tau), tau, kmax, grid)\n",
    "print res2\n",
    "res3= post_p(noisy_dat(m,0.5,tau), tau, kmax, grid)\n",
    "print res3\n",
    "res4= post_p(noisy_dat(m,0.75,tau), tau, kmax, grid)\n",
    "print res4\n",
    "res5=  post_p(noisy_dat(m,1 ,tau), tau, kmax, grid)\n",
    "print res5"
   ]
  },
  {
   "cell_type": "code",
   "execution_count": 36,
   "metadata": {
    "collapsed": false
   },
   "outputs": [
    {
     "data": {
      "image/png": "[encoded data removed]",
      "text/plain": [
       "<matplotlib.figure.Figure at 0x10a775910>"
      ]
     },
     "metadata": {},
     "output_type": "display_data"
    }
   ],
   "source": [
    "import seaborn as sns\n",
    "\n",
    "plt.figure()\n",
    "# plot histgram of sample\n",
    "#plt.hist(res1, bins=20, normed=1)\n",
    "# plot data generating density\n",
    "#plt.plot(grid, stats.norm.pdf(grid), color=\"r\", label='DGP normal')\n",
    "# plot estimated density\n",
    "#plt.plot(grid, kdepdf, label='kde', color=\"g\")\n",
    "locs, labels = plt.xticks()\n",
    "axes = plt.gca()\n",
    "maxy = max(max(res1),max(res2),max(res3),max(res4),max(res5))\n",
    "axes.set_ylim([0,maxy+0.15])\n",
    "#plt.setp(labels, rotation=90)\n",
    "\n",
    "plt.ylabel('density')\n",
    "plt.xlabel('range')\n",
    "plt.legend()\n",
    "#plt.show()\n",
    "\n",
    "from scipy.interpolate import spline \n",
    "\n",
    "\n",
    "#plt.xticks(range(len(grid)), map(lambda x: round(x,2), grid))\n",
    "grid_new = np.linspace(min(grid), max(grid), 300)\n",
    "noisy0, = plt.plot(grid_new, spline(grid, res1, grid_new ), label = '0')\n",
    "noisy1, = plt.plot(grid_new, spline(grid, res2, grid_new ), label = '0.25')\n",
    "noisy2, = plt.plot(grid_new, spline(grid, res3, grid_new ), label = '0.5')\n",
    "noisy3, = plt.plot(grid_new, spline(grid, res4, grid_new ), label = '0.75')\n",
    "noisy4, = plt.plot(grid_new, spline(grid, res5, grid_new ), label = '1')\n",
    "\n",
    "plt.legend(handles= [noisy0, noisy1, noisy2, noisy3, noisy4])\n",
    "#plt.legend((m, kmax), ('m','k'))\n",
    "#titlestr = \"$m=%d, k_{max} = %d$\" %(m, kmax)\n",
    "#plt.title(r\"Posterior of p versus $\\frac{\\# \\,noise}{\\# \\,observations}$\"+'\\n m=%s; '%m +r\"$\\tau$=\"+\"%s\"%tau+ \" ;\" + r\"$k_{max}$=\"+\"%s\"%kmax)\n",
    "#plt.tight_layout()\n",
    "filename = 'post_p_%d_%d.pdf' %(m,k) \n",
    "plt.savefig(filename)\n"
   ]
  },
  {
   "cell_type": "code",
   "execution_count": 59,
   "metadata": {
    "collapsed": false
   },
   "outputs": [
    {
     "name": "stdout",
     "output_type": "stream",
     "text": [
      "[3, 4, 5, 0, 0, 0, 0, 0]\n",
      "5\n",
      "[0.066034668087667017, -1.5201580738631832, 2.1386887167346678, 0.49714533771659009, 0.66934996657435919, 0.0, 0.0, 0.0, 0.0, 0.0]\n"
     ]
    }
   ],
   "source": [
    "map(add, [1,2,3], [3,4,5])\n",
    "\n",
    "print [3,4,5]+[0]*(m-cutoff)\n",
    "print m-cutoff\n",
    "print list(dat2) + [0.]*(m-cutoff)"
   ]
  },
  {
   "cell_type": "code",
   "execution_count": 71,
   "metadata": {
    "collapsed": false
   },
   "outputs": [],
   "source": [
    "### Debug session ###\n",
    "### check the true inclusion prob is correct ###\n",
    "\n",
    "def denominator(sample, channel, tau, kmax, prior_level):\n",
    "    ''' get inclusion probability  '''\n",
    "    m = len(sample)\n",
    "    sumBF_arr =[]\n",
    "    \n",
    "    # save Bayes factors without the channel \n",
    "    subsample = np.append(sample[:(channel-1)],sample[channel:])\n",
    "    for k in xrange(0, kmax+1): \n",
    "        temp = sum_Bayes_full(subsample, k, tau)\n",
    "        #print ' k =  ' + str(k) +  '; sum BF excluding x[channel] ' + str(temp)\n",
    "        sumBF_arr.append(temp)\n",
    "    print temp\n",
    "    \n",
    "    full_sum_BF= [sumBF_arr[0]]\n",
    "    BFchannel = (1.0 + tau **2)**(-0.5) * exp( tau**2 / (1.0 + tau**2) /2.0 * sample[channel-1]**2)\n",
    "    for k in xrange(1, kmax+1):\n",
    "        full_sum_BF.append(sumBF_arr[k]+BFchannel*sumBF_arr[k-1])\n",
    "    #full_sum_BF.append(BFchannel*sumBF_arr[kmax-1])\n",
    "    print full_sum_BF\n",
    "    \n",
    "    \n",
    "    numerator = 0.\n",
    "    for k in xrange(1, kmax+1):\n",
    "        numerator += prior_level[k]/sp.misc.comb(m,k)*sumBF_arr[k-1]*BFchannel\n",
    "    denominator = numerator\n",
    "    for k in xrange(0, kmax):\n",
    "        denominator +=  prior_level[k]/sp.misc.comb(m,k)*sumBF_arr[k]\n",
    "    #print denominator\n",
    "    return denominator\n",
    "\n",
    "#sum BF = 1?\n",
    "iter = 0\n",
    "iters = 500\n",
    "m = 5\n",
    "kmax = 3\n",
    "res = []\n",
    "res2 =[]\n",
    "\n",
    "prior_levels = [1./(kmax+1)]*(kmax+1)\n",
    "sumkpk= 0.\n",
    "tau = 1.\n",
    "for k in xrange(1, kmax+1):\n",
    "    sumkpk += k*prior_levels[k]\n",
    "    \n",
    "total = 0.\n",
    "dat = np.random.normal(0,1,m)\n",
    "#print dat\n",
    "for k in xrange(kmax+1):\n",
    "        res.append(sum_Bayes_full(dat, k, 1.))\n",
    "#print dat\n",
    "#print dat[1::]\n",
    "print denominator(dat, 1, tau, kmax, prior_levels)\n",
    "print res\n",
    "BFchannel = (1.0 + tau **2)**(-0.5) * exp( tau**2 / (1.0 + tau**2) /2.0 * dat[0]**2)\n",
    "\n",
    "\n",
    "#which one is right?\n",
    "print sum_Bayes_full(dat, 3, tau)\n",
    "print sum_Bayes_full(dat[1::], 2, tau)*BFchannel\n",
    "print (1.0 + tau **2)**(-1.5) * exp( tau**2 / (1.0 + tau**2) /2.0 * (dat[0]**2+dat[1]**2+dat[2]**2))\n",
    "\n"
   ]
  }
 ],
 "metadata": {
  "kernelspec": {
   "display_name": "Python 2",
   "language": "python",
   "name": "python2"
  },
  "language_info": {
   "codemirror_mode": {
    "name": "ipython",
    "version": 2
   },
   "file_extension": ".py",
   "mimetype": "text/x-python",
   "name": "python",
   "nbconvert_exporter": "python",
   "pygments_lexer": "ipython2",
   "version": "2.7.11"
  },
  "latex_envs": {
   "bibliofile": "biblio.bib",
   "cite_by": "apalike",
   "current_citInitial": 1,
   "eqLabelWithNumbers": true,
   "eqNumInitial": 0
  }
 },
 "nbformat": 4,
 "nbformat_minor": 0
}
