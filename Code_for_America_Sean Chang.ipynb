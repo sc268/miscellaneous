{
 "cells": [
  {
   "cell_type": "code",
   "execution_count": 1,
   "metadata": {
    "collapsed": false
   },
   "outputs": [
    {
     "name": "stdout",
     "output_type": "stream",
     "text": [
      "/home/sc268/Dropbox/codes/2016_code_for_america\n"
     ]
    },
    {
     "name": "stderr",
     "output_type": "stream",
     "text": [
      "/home/sc268/anaconda2/lib/python2.7/site-packages/matplotlib/__init__.py:872: UserWarning: axes.color_cycle is deprecated and replaced with axes.prop_cycle; please use the latter.\n",
      "  warnings.warn(self.msg_depr % (key, alt_key))\n"
     ]
    }
   ],
   "source": [
    "import numpy as np\n",
    "import pandas as pd\n",
    "import scipy as sp\n",
    "import matplotlib.pyplot as plt\n",
    "%matplotlib inline  \n",
    "import seaborn as sns\n",
    "import os \n",
    "print os.getcwd()"
   ]
  },
  {
   "cell_type": "code",
   "execution_count": 4,
   "metadata": {
    "collapsed": false
   },
   "outputs": [
    {
     "data": {
      "text/html": [
       "<div>\n",
       "<table border=\"1\" class=\"dataframe\">\n",
       "  <thead>\n",
       "    <tr style=\"text-align: right;\">\n",
       "      <th></th>\n",
       "      <th>violation_id</th>\n",
       "      <th>inspection_id</th>\n",
       "      <th>violation_category</th>\n",
       "      <th>violation_date</th>\n",
       "      <th>violation_date_closed</th>\n",
       "      <th>violation_type</th>\n",
       "    </tr>\n",
       "  </thead>\n",
       "  <tbody>\n",
       "    <tr>\n",
       "      <th>0</th>\n",
       "      <td>204851</td>\n",
       "      <td>261019</td>\n",
       "      <td>Garbage and Refuse</td>\n",
       "      <td>2012-01-03 00:00:00</td>\n",
       "      <td>2012-02-02 00:00:00</td>\n",
       "      <td>Refuse Accumulation</td>\n",
       "    </tr>\n",
       "    <tr>\n",
       "      <th>1</th>\n",
       "      <td>204852</td>\n",
       "      <td>261019</td>\n",
       "      <td>Unsanitary Conditions</td>\n",
       "      <td>2012-01-03 00:00:00</td>\n",
       "      <td>2012-02-02 00:00:00</td>\n",
       "      <td>Unsanitary conditions, not specified</td>\n",
       "    </tr>\n",
       "    <tr>\n",
       "      <th>2</th>\n",
       "      <td>204853</td>\n",
       "      <td>261023</td>\n",
       "      <td>Garbage and Refuse</td>\n",
       "      <td>2012-01-03 00:00:00</td>\n",
       "      <td>2012-01-17 00:00:00</td>\n",
       "      <td>Refuse Accumulation</td>\n",
       "    </tr>\n",
       "    <tr>\n",
       "      <th>3</th>\n",
       "      <td>204854</td>\n",
       "      <td>261023</td>\n",
       "      <td>Garbage and Refuse</td>\n",
       "      <td>2012-01-03 00:00:00</td>\n",
       "      <td>2012-01-17 00:00:00</td>\n",
       "      <td>Refuse Accumulation</td>\n",
       "    </tr>\n",
       "    <tr>\n",
       "      <th>4</th>\n",
       "      <td>204858</td>\n",
       "      <td>261029</td>\n",
       "      <td>Garbage and Refuse</td>\n",
       "      <td>2012-01-03 00:00:00</td>\n",
       "      <td>2012-03-12 00:00:00</td>\n",
       "      <td>Refuse Accumulation</td>\n",
       "    </tr>\n",
       "  </tbody>\n",
       "</table>\n",
       "</div>"
      ],
      "text/plain": [
       "   violation_id  inspection_id     violation_category       violation_date  \\\n",
       "0        204851         261019     Garbage and Refuse  2012-01-03 00:00:00   \n",
       "1        204852         261019  Unsanitary Conditions  2012-01-03 00:00:00   \n",
       "2        204853         261023     Garbage and Refuse  2012-01-03 00:00:00   \n",
       "3        204854         261023     Garbage and Refuse  2012-01-03 00:00:00   \n",
       "4        204858         261029     Garbage and Refuse  2012-01-03 00:00:00   \n",
       "\n",
       "  violation_date_closed                        violation_type  \n",
       "0   2012-02-02 00:00:00                   Refuse Accumulation  \n",
       "1   2012-02-02 00:00:00  Unsanitary conditions, not specified  \n",
       "2   2012-01-17 00:00:00                   Refuse Accumulation  \n",
       "3   2012-01-17 00:00:00                   Refuse Accumulation  \n",
       "4   2012-03-12 00:00:00                   Refuse Accumulation  "
      ]
     },
     "execution_count": 4,
     "metadata": {},
     "output_type": "execute_result"
    }
   ],
   "source": [
    "## read data\n",
    "dat = pd.read_csv('Violations-2012.csv')\n",
    "dat.head()"
   ]
  },
  {
   "cell_type": "code",
   "execution_count": 94,
   "metadata": {
    "collapsed": false
   },
   "outputs": [],
   "source": [
    "## short summary\n",
    "# not meaningful though since this computes avg(ID number), avg(inspection number)\n",
    "# dat.describe()"
   ]
  },
  {
   "cell_type": "code",
   "execution_count": 12,
   "metadata": {
    "collapsed": false
   },
   "outputs": [
    {
     "data": {
      "text/html": [
       "<div>\n",
       "<table border=\"1\" class=\"dataframe\">\n",
       "  <thead>\n",
       "    <tr style=\"text-align: right;\">\n",
       "      <th></th>\n",
       "      <th>violation_id</th>\n",
       "      <th>inspection_id</th>\n",
       "      <th>violation_date</th>\n",
       "      <th>violation_date_closed</th>\n",
       "      <th>violation_type</th>\n",
       "    </tr>\n",
       "    <tr>\n",
       "      <th>violation_category</th>\n",
       "      <th></th>\n",
       "      <th></th>\n",
       "      <th></th>\n",
       "      <th></th>\n",
       "      <th></th>\n",
       "    </tr>\n",
       "  </thead>\n",
       "  <tbody>\n",
       "    <tr>\n",
       "      <th>Air Pollutants and Odors</th>\n",
       "      <td>2</td>\n",
       "      <td>2</td>\n",
       "      <td>2</td>\n",
       "      <td>1</td>\n",
       "      <td>2</td>\n",
       "    </tr>\n",
       "    <tr>\n",
       "      <th>Animals and Pests</th>\n",
       "      <td>180</td>\n",
       "      <td>180</td>\n",
       "      <td>180</td>\n",
       "      <td>138</td>\n",
       "      <td>180</td>\n",
       "    </tr>\n",
       "    <tr>\n",
       "      <th>Biohazards</th>\n",
       "      <td>7</td>\n",
       "      <td>7</td>\n",
       "      <td>7</td>\n",
       "      <td>6</td>\n",
       "      <td>7</td>\n",
       "    </tr>\n",
       "    <tr>\n",
       "      <th>Building Conditions</th>\n",
       "      <td>62</td>\n",
       "      <td>62</td>\n",
       "      <td>62</td>\n",
       "      <td>43</td>\n",
       "      <td>62</td>\n",
       "    </tr>\n",
       "    <tr>\n",
       "      <th>Chemical Hazards</th>\n",
       "      <td>17</td>\n",
       "      <td>17</td>\n",
       "      <td>17</td>\n",
       "      <td>16</td>\n",
       "      <td>17</td>\n",
       "    </tr>\n",
       "    <tr>\n",
       "      <th>Garbage and Refuse</th>\n",
       "      <td>126</td>\n",
       "      <td>126</td>\n",
       "      <td>126</td>\n",
       "      <td>102</td>\n",
       "      <td>126</td>\n",
       "    </tr>\n",
       "    <tr>\n",
       "      <th>Retail Food</th>\n",
       "      <td>1</td>\n",
       "      <td>1</td>\n",
       "      <td>1</td>\n",
       "      <td>1</td>\n",
       "      <td>1</td>\n",
       "    </tr>\n",
       "    <tr>\n",
       "      <th>Unsanitary Conditions</th>\n",
       "      <td>83</td>\n",
       "      <td>83</td>\n",
       "      <td>83</td>\n",
       "      <td>65</td>\n",
       "      <td>83</td>\n",
       "    </tr>\n",
       "    <tr>\n",
       "      <th>Vegetation</th>\n",
       "      <td>67</td>\n",
       "      <td>67</td>\n",
       "      <td>67</td>\n",
       "      <td>57</td>\n",
       "      <td>67</td>\n",
       "    </tr>\n",
       "  </tbody>\n",
       "</table>\n",
       "</div>"
      ],
      "text/plain": [
       "                          violation_id  inspection_id  violation_date  \\\n",
       "violation_category                                                      \n",
       "Air Pollutants and Odors             2              2               2   \n",
       "Animals and Pests                  180            180             180   \n",
       "Biohazards                           7              7               7   \n",
       "Building Conditions                 62             62              62   \n",
       "Chemical Hazards                    17             17              17   \n",
       "Garbage and Refuse                 126            126             126   \n",
       "Retail Food                          1              1               1   \n",
       "Unsanitary Conditions               83             83              83   \n",
       "Vegetation                          67             67              67   \n",
       "\n",
       "                          violation_date_closed  violation_type  \n",
       "violation_category                                               \n",
       "Air Pollutants and Odors                      1               2  \n",
       "Animals and Pests                           138             180  \n",
       "Biohazards                                    6               7  \n",
       "Building Conditions                          43              62  \n",
       "Chemical Hazards                             16              17  \n",
       "Garbage and Refuse                          102             126  \n",
       "Retail Food                                   1               1  \n",
       "Unsanitary Conditions                        65              83  \n",
       "Vegetation                                   57              67  "
      ]
     },
     "execution_count": 12,
     "metadata": {},
     "output_type": "execute_result"
    }
   ],
   "source": [
    "## counts group by violation category\n",
    "dat.groupby(['violation_category']).count()"
   ]
  },
  {
   "cell_type": "code",
   "execution_count": 25,
   "metadata": {
    "collapsed": false
   },
   "outputs": [
    {
     "data": {
      "text/html": [
       "<div>\n",
       "<table border=\"1\" class=\"dataframe\">\n",
       "  <thead>\n",
       "    <tr style=\"text-align: right;\">\n",
       "      <th></th>\n",
       "      <th>violation_id</th>\n",
       "    </tr>\n",
       "    <tr>\n",
       "      <th>violation_category</th>\n",
       "      <th></th>\n",
       "    </tr>\n",
       "  </thead>\n",
       "  <tbody>\n",
       "    <tr>\n",
       "      <th>Air Pollutants and Odors</th>\n",
       "      <td>2</td>\n",
       "    </tr>\n",
       "    <tr>\n",
       "      <th>Animals and Pests</th>\n",
       "      <td>180</td>\n",
       "    </tr>\n",
       "    <tr>\n",
       "      <th>Biohazards</th>\n",
       "      <td>7</td>\n",
       "    </tr>\n",
       "    <tr>\n",
       "      <th>Building Conditions</th>\n",
       "      <td>62</td>\n",
       "    </tr>\n",
       "    <tr>\n",
       "      <th>Chemical Hazards</th>\n",
       "      <td>17</td>\n",
       "    </tr>\n",
       "    <tr>\n",
       "      <th>Garbage and Refuse</th>\n",
       "      <td>126</td>\n",
       "    </tr>\n",
       "    <tr>\n",
       "      <th>Retail Food</th>\n",
       "      <td>1</td>\n",
       "    </tr>\n",
       "    <tr>\n",
       "      <th>Unsanitary Conditions</th>\n",
       "      <td>83</td>\n",
       "    </tr>\n",
       "    <tr>\n",
       "      <th>Vegetation</th>\n",
       "      <td>67</td>\n",
       "    </tr>\n",
       "  </tbody>\n",
       "</table>\n",
       "</div>"
      ],
      "text/plain": [
       "                          violation_id\n",
       "violation_category                    \n",
       "Air Pollutants and Odors             2\n",
       "Animals and Pests                  180\n",
       "Biohazards                           7\n",
       "Building Conditions                 62\n",
       "Chemical Hazards                    17\n",
       "Garbage and Refuse                 126\n",
       "Retail Food                          1\n",
       "Unsanitary Conditions               83\n",
       "Vegetation                          67"
      ]
     },
     "execution_count": 25,
     "metadata": {},
     "output_type": "execute_result"
    }
   ],
   "source": [
    "## the number of violations in each category\n",
    "dat[['violation_id', 'violation_category']].groupby(['violation_category']).count()"
   ]
  },
  {
   "cell_type": "code",
   "execution_count": 27,
   "metadata": {
    "collapsed": false
   },
   "outputs": [
    {
     "data": {
      "text/html": [
       "<div>\n",
       "<table border=\"1\" class=\"dataframe\">\n",
       "  <thead>\n",
       "    <tr>\n",
       "      <th></th>\n",
       "      <th colspan=\"2\" halign=\"left\">violation_date</th>\n",
       "    </tr>\n",
       "    <tr>\n",
       "      <th></th>\n",
       "      <th>min</th>\n",
       "      <th>max</th>\n",
       "    </tr>\n",
       "    <tr>\n",
       "      <th>violation_category</th>\n",
       "      <th></th>\n",
       "      <th></th>\n",
       "    </tr>\n",
       "  </thead>\n",
       "  <tbody>\n",
       "    <tr>\n",
       "      <th>Air Pollutants and Odors</th>\n",
       "      <td>2012-12-05 00:00:00</td>\n",
       "      <td>2012-12-19 00:00:00</td>\n",
       "    </tr>\n",
       "    <tr>\n",
       "      <th>Animals and Pests</th>\n",
       "      <td>2012-01-03 00:00:00</td>\n",
       "      <td>2012-12-28 00:00:00</td>\n",
       "    </tr>\n",
       "    <tr>\n",
       "      <th>Biohazards</th>\n",
       "      <td>2012-04-13 00:00:00</td>\n",
       "      <td>2012-12-18 00:00:00</td>\n",
       "    </tr>\n",
       "    <tr>\n",
       "      <th>Building Conditions</th>\n",
       "      <td>2012-01-12 00:00:00</td>\n",
       "      <td>2012-12-26 00:00:00</td>\n",
       "    </tr>\n",
       "    <tr>\n",
       "      <th>Chemical Hazards</th>\n",
       "      <td>2012-02-08 00:00:00</td>\n",
       "      <td>2012-12-06 00:00:00</td>\n",
       "    </tr>\n",
       "    <tr>\n",
       "      <th>Garbage and Refuse</th>\n",
       "      <td>2012-01-03 00:00:00</td>\n",
       "      <td>2012-12-21 00:00:00</td>\n",
       "    </tr>\n",
       "    <tr>\n",
       "      <th>Retail Food</th>\n",
       "      <td>2012-12-20 00:00:00</td>\n",
       "      <td>2012-12-20 00:00:00</td>\n",
       "    </tr>\n",
       "    <tr>\n",
       "      <th>Unsanitary Conditions</th>\n",
       "      <td>2012-01-03 00:00:00</td>\n",
       "      <td>2012-12-19 00:00:00</td>\n",
       "    </tr>\n",
       "    <tr>\n",
       "      <th>Vegetation</th>\n",
       "      <td>2012-02-01 00:00:00</td>\n",
       "      <td>2012-12-05 00:00:00</td>\n",
       "    </tr>\n",
       "  </tbody>\n",
       "</table>\n",
       "</div>"
      ],
      "text/plain": [
       "                               violation_date                     \n",
       "                                          min                  max\n",
       "violation_category                                                \n",
       "Air Pollutants and Odors  2012-12-05 00:00:00  2012-12-19 00:00:00\n",
       "Animals and Pests         2012-01-03 00:00:00  2012-12-28 00:00:00\n",
       "Biohazards                2012-04-13 00:00:00  2012-12-18 00:00:00\n",
       "Building Conditions       2012-01-12 00:00:00  2012-12-26 00:00:00\n",
       "Chemical Hazards          2012-02-08 00:00:00  2012-12-06 00:00:00\n",
       "Garbage and Refuse        2012-01-03 00:00:00  2012-12-21 00:00:00\n",
       "Retail Food               2012-12-20 00:00:00  2012-12-20 00:00:00\n",
       "Unsanitary Conditions     2012-01-03 00:00:00  2012-12-19 00:00:00\n",
       "Vegetation                2012-02-01 00:00:00  2012-12-05 00:00:00"
      ]
     },
     "execution_count": 27,
     "metadata": {},
     "output_type": "execute_result"
    }
   ],
   "source": [
    "## the earliest and latest violation date for each category\n",
    "dat[['violation_date', 'violation_category']].groupby(['violation_category']).agg([min, max])"
   ]
  },
  {
   "cell_type": "code",
   "execution_count": 89,
   "metadata": {
    "collapsed": false
   },
   "outputs": [
    {
     "data": {
      "image/png": "[encoded data removed]",
      "text/plain": [
       "<matplotlib.figure.Figure at 0x7fc264f44090>"
      ]
     },
     "metadata": {},
     "output_type": "display_data"
    }
   ],
   "source": [
    "## create an aggregated time series of counts\n",
    "idx = map(lambda x: pd.Timestamp(x).date(), dat.violation_date.values)\n",
    "ts = pd.Series([1]*len(idx), index = idx)\n",
    "ts.groupby(ts.index).sum().plot()\n",
    "\n",
    "locs, labels = plt.xticks()\n",
    "plt.setp(labels, rotation=45)\n",
    "plt.ylabel('counts')\n",
    "plt.title('total number of violations by date')\n",
    "plt.show()"
   ]
  }
 ],
 "metadata": {
  "kernelspec": {
   "display_name": "Python 2",
   "language": "python",
   "name": "python2"
  },
  "language_info": {
   "codemirror_mode": {
    "name": "ipython",
    "version": 2
   },
   "file_extension": ".py",
   "mimetype": "text/x-python",
   "name": "python",
   "nbconvert_exporter": "python",
   "pygments_lexer": "ipython2",
   "version": "2.7.11"
  }
 },
 "nbformat": 4,
 "nbformat_minor": 0
}
